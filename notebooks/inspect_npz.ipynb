{
  "cells": [
    {
      "cell_type": "markdown",
      "metadata": {},
      "source": [
        "# NPZ File Inspection Notebook\n",
        "\n",
        "This notebook allows you to interactively explore the NPZ file created by the feature engineering process."
      ]
    },
    {
      "cell_type": "code",
      "execution_count": 6,
      "metadata": {},
      "outputs": [
        {
          "name": "stdout",
          "output_type": "stream",
          "text": [
            "X_seq shape: (1, 21, 48)\n",
            "y_seq shape: (1,)\n",
            "Label distribution:\n",
            "Label 6: 1\n"
          ]
        }
      ],
      "source": [
        "import os\n",
        "import numpy as np\n",
        "import matplotlib.pyplot as plt\n",
        "from ipywidgets import interact\n",
        "\n",
        "# Adjust this path if needed\n",
        "npz_path = '../data/processed/sequence/training_data_sequence.npz'\n",
        "\n",
        "if not os.path.exists(npz_path):\n",
        "    print(f\"File not found: {npz_path}\")\n",
        "else:\n",
        "    data = np.load(npz_path)\n",
        "    X_seq = data['X_seq']\n",
        "    y_seq = data['y_seq']\n",
        "    print(\"X_seq shape:\", X_seq.shape)\n",
        "    print(\"y_seq shape:\", y_seq.shape)\n",
        "    unique_labels, counts = np.unique(y_seq, return_counts=True)\n",
        "    print(\"Label distribution:\")\n",
        "    for lbl, cnt in zip(unique_labels, counts):\n",
        "        print(f\"Label {lbl}: {cnt}\")"
      ]
    },
    {
      "cell_type": "markdown",
      "metadata": {},
      "source": [
        "## Interactive Exploration\n",
        "Use the slider widgets below to select a sample and frame to visualize.\n",
        "\n",
        "We'll plot the feature values for the selected frame."
      ]
    },
    {
      "cell_type": "code",
      "execution_count": 7,
      "metadata": {},
      "outputs": [],
      "source": [
        "def explore(sample_idx=0, frame_idx=0):\n",
        "    if sample_idx < 0 or sample_idx >= X_seq.shape[0]:\n",
        "        print(\"Sample index out of range.\")\n",
        "        return\n",
        "    if frame_idx < 0 or frame_idx >= X_seq.shape[1]:\n",
        "        print(\"Frame index out of range.\")\n",
        "        return\n",
        "    plt.figure(figsize=(10,4))\n",
        "    plt.plot(X_seq[sample_idx, frame_idx, :], marker='o')\n",
        "    plt.title(f'Sample {sample_idx}, Frame {frame_idx}, Label: {y_seq[sample_idx]}')\n",
        "    plt.xlabel('Feature Index')\n",
        "    plt.ylabel('Value')\n",
        "    plt.grid(True)\n",
        "    plt.show()"
      ]
    },
    {
      "cell_type": "code",
      "execution_count": 3,
      "metadata": {},
      "outputs": [
        {
          "data": {
            "application/vnd.jupyter.widget-view+json": {
              "model_id": "baebfc6d2de6454980c8b90b144be184",
              "version_major": 2,
              "version_minor": 0
            },
            "text/plain": [
              "interactive(children=(IntSlider(value=0, description='sample_idx', max=0), IntSlider(value=0, description='fra…"
            ]
          },
          "metadata": {},
          "output_type": "display_data"
        },
        {
          "data": {
            "text/plain": [
              "<function __main__.explore(sample_idx=0, frame_idx=0)>"
            ]
          },
          "execution_count": 3,
          "metadata": {},
          "output_type": "execute_result"
        }
      ],
      "source": [
        "interact(\n",
        "    explore,\n",
        "    sample_idx=(0, X_seq.shape[0]-1, 1),\n",
        "    frame_idx=(0, X_seq.shape[1]-1, 1)\n",
        ")"
      ]
    },
    {
      "cell_type": "code",
      "execution_count": null,
      "metadata": {},
      "outputs": [],
      "source": []
    }
  ],
  "metadata": {
    "kernelspec": {
      "display_name": "Python 3",
      "name": "python3"
    },
    "language_info": {
      "codemirror_mode": {
        "name": "ipython",
        "version": 3
      },
      "file_extension": ".py",
      "mimetype": "text/x-python",
      "name": "python",
      "nbconvert_exporter": "python",
      "pygments_lexer": "ipython3",
      "version": "3.11.5"
    }
  },
  "nbformat": 4,
  "nbformat_minor": 4
}
